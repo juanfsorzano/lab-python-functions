{
 "cells": [
  {
   "cell_type": "markdown",
   "metadata": {},
   "source": [
    "# Lab | Functions"
   ]
  },
  {
   "cell_type": "markdown",
   "metadata": {},
   "source": [
    "## Exercise: Managing Customer Orders with Functions\n",
    "\n",
    "In the previous exercise, you improved the code for managing customer orders by using loops and flow control. Now, let's take it a step further and refactor the code by introducing functions.\n",
    "\n",
    "Follow the steps below to complete the exercise:\n",
    "\n",
    "1. Define a function named `initialize_inventory` that takes `products` as a parameter. Inside the function, implement the code for initializing the inventory dictionary using a loop and user input.\n",
    "\n",
    "2. Define a function named `get_customer_orders` that takes no parameters. Inside the function, implement the code for prompting the user to enter the product names using a loop. The function should return the `customer_orders` set.\n",
    "\n",
    "3. Define a function named `update_inventory` that takes `customer_orders` and `inventory` as parameters. Inside the function, implement the code for updating the inventory dictionary based on the customer orders.\n",
    "\n",
    "4. Define a function named `calculate_order_statistics` that takes `customer_orders` and `products` as parameters. Inside the function, implement the code for calculating the order statistics (total products ordered, and percentage of unique products ordered). The function should return these values.\n",
    "\n",
    "5. Define a function named `print_order_statistics` that takes `order_statistics` as a parameter. Inside the function, implement the code for printing the order statistics.\n",
    "\n",
    "6. Define a function named `print_updated_inventory` that takes `inventory` as a parameter. Inside the function, implement the code for printing the updated inventory.\n",
    "\n",
    "7. Call the functions in the appropriate sequence to execute the program and manage customer orders.\n",
    "\n",
    "Hints for functions:\n",
    "\n",
    "- Consider the input parameters required for each function and their return values.\n",
    "- Utilize function parameters and return values to transfer data between functions.\n",
    "- Test your functions individually to ensure they work correctly.\n",
    "\n",
    "\n"
   ]
  },
  {
   "cell_type": "code",
   "execution_count": 81,
   "metadata": {},
   "outputs": [],
   "source": [
    "# 1\n",
    "products = [\"t-shirt\", \"mug\", \"hat\", \"book\", \"keychain\"]\n",
    "\n",
    "def initialize_inventory(products):\n",
    "    inventory = {product:int(input(f\"Enter the intial quantity for {product}: \")) for product in products}\n"
   ]
  },
  {
   "cell_type": "code",
   "execution_count": 83,
   "metadata": {},
   "outputs": [],
   "source": [
    "# 2\n",
    "\n",
    "customer_orders = set()\n",
    "\n",
    "def get_customer_orders():\n",
    "    decision = 'yes'\n",
    "    while decision == 'yes':\n",
    "        product = input(\"Please enter your product t-shirt, mug, hat, book, keychain\")\n",
    "        if product not in products:\n",
    "            print(\"KeyError introduce a valid product!\")\n",
    "        else:\n",
    "            if product not in customer_orders:\n",
    "                customer_orders.add(product)\n",
    "                decision = input(\"Product added, say yes if you want another product\")\n",
    "            else:\n",
    "                print(f\"Product already ordered {product}\")\n",
    "    return customer_orders\n",
    "\n"
   ]
  },
  {
   "cell_type": "code",
   "execution_count": 85,
   "metadata": {},
   "outputs": [
    {
     "name": "stdout",
     "output_type": "stream",
     "text": [
      "{'t-shirt': 10, 'mug': 9, 'hat': 9, 'book': 9, 'keychain': 10}\n"
     ]
    }
   ],
   "source": [
    "#3\n",
    "def update_inventory(customer_orders, inventory):  \n",
    "    for item in customer_orders:\n",
    "            if inventory[item] < 1:\n",
    "                print(\"out of Stock\")\n",
    "            else:\n",
    "                inventory[item]-=1 \n",
    "    \n",
    "print(inventory)\n"
   ]
  },
  {
   "cell_type": "code",
   "execution_count": 86,
   "metadata": {},
   "outputs": [],
   "source": [
    "#4\n",
    "\n",
    "def calculate_order_statistics(customer_orders,products):\n",
    "\n",
    "   total_products_ordered = len(customer_orders)\n",
    "   percentage_ordered = (total_products_ordered / len(products)) * 100\n",
    "   order_status = (total_products_ordered, percentage_ordered)\n"
   ]
  },
  {
   "cell_type": "code",
   "execution_count": 87,
   "metadata": {},
   "outputs": [],
   "source": [
    "#5\n",
    "\n",
    "def print_order_statistics(order_status):\n",
    "      print(order_status)"
   ]
  },
  {
   "cell_type": "code",
   "execution_count": 79,
   "metadata": {},
   "outputs": [],
   "source": [
    "#6\n",
    "\n",
    "def print_updated_inventory (inventory):\n",
    "    for key, value in inventory.items():\n",
    "        print(f\"you have {value} of {key}\")\n"
   ]
  },
  {
   "cell_type": "code",
   "execution_count": 88,
   "metadata": {},
   "outputs": [
    {
     "name": "stdout",
     "output_type": "stream",
     "text": [
      "Product already ordered mug\n",
      "(3, 6.0)\n",
      "None\n",
      "you have 10 of t-shirt\n",
      "you have 8 of mug\n",
      "you have 8 of hat\n",
      "you have 8 of book\n",
      "you have 10 of keychain\n",
      "None\n"
     ]
    }
   ],
   "source": [
    "#7\n",
    "\n",
    "products = [\"t-shirt\", \"mug\", \"hat\", \"book\", \"keychain\"]\n",
    "customer_orders = set()\n",
    "\n",
    "\n",
    "initialize_inventory(products)\n",
    "get_customer_orders()\n",
    "update_inventory(customer_orders, inventory)\n",
    "calculate_order_statistics(customer_orders,products)\n",
    "print(print_order_statistics(order_status))\n",
    "print(print_updated_inventory (inventory))\n",
    "\n"
   ]
  }
 ],
 "metadata": {
  "kernelspec": {
   "display_name": "Python 3 (ipykernel)",
   "language": "python",
   "name": "python3"
  },
  "language_info": {
   "codemirror_mode": {
    "name": "ipython",
    "version": 3
   },
   "file_extension": ".py",
   "mimetype": "text/x-python",
   "name": "python",
   "nbconvert_exporter": "python",
   "pygments_lexer": "ipython3",
   "version": "3.12.3"
  }
 },
 "nbformat": 4,
 "nbformat_minor": 4
}
